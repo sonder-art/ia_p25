{
 "cells": [
  {
   "cell_type": "code",
   "execution_count": 7,
   "metadata": {},
   "outputs": [
    {
     "name": "stdout",
     "output_type": "stream",
     "text": [
      "[1, 2]\n",
      "[2]\n",
      "[]\n",
      "False\n"
     ]
    }
   ],
   "source": [
    "class Solution(object):\n",
    "    \n",
    "    def validPath(self, n, edges, source, destination):\n",
    "        # Step 1: Build the adjacency list manually\n",
    "        graph = {}  # Usaremos un diccionario para representar el grafo\n",
    "        \n",
    "        for u, v in edges:\n",
    "            if u not in graph:\n",
    "                graph[u] = []  # Crear la lista de vecinos si no existe\n",
    "            if v not in graph:\n",
    "                graph[v] = []\n",
    "            graph[u].append(v)\n",
    "            graph[v].append(u)  # Añadir las conexiones bidireccionales\n",
    "        # Step 2: Initialize BFS (usando listas en lugar de deque)\n",
    "        queue = [source]  # Usamos una lista como cola\n",
    "        visited = set()   # Conjunto para rastrear nodos visitados\n",
    "\n",
    "        # Step 3: Perform BFS\n",
    "        while queue:\n",
    "            # Eliminar el primer elemento de la cola\n",
    "            node = queue.pop(0)  # Esto simula el comportamiento de deque.popleft()\n",
    "            \n",
    "            # Si alcanzamos el destino, devolvemos True\n",
    "            if node == destination:\n",
    "                return True\n",
    "\n",
    "            # Si no hemos visitado este nodo, lo marcamos como visitado\n",
    "            if node not in visited:\n",
    "                visited.add(node)\n",
    "                \n",
    "                # Agregar los vecinos no visitados a la cola\n",
    "                for neighbor in graph[node]:\n",
    "                    if neighbor not in visited:\n",
    "                        queue.append(neighbor)\n",
    "            print(queue)\n",
    "        # Si terminamos la búsqueda y no encontramos el destino, devolvemos False\n",
    "        return False\n",
    "\n",
    "# Ejemplo de uso\n",
    "sol = Solution()\n",
    "n = 6\n",
    "edges = [[0,1],[0,2],[3,5],[5,4],[4,3]]\n",
    "source = 0\n",
    "destination =5\n",
    "print(sol.validPath(n, edges, source, destination))  # Salida esperada: True\n"
   ]
  },
  {
   "cell_type": "code",
   "execution_count": 12,
   "metadata": {},
   "outputs": [
    {
     "name": "stdout",
     "output_type": "stream",
     "text": [
      "1\n"
     ]
    }
   ],
   "source": [
    "class Solution(object):\n",
    "    def findCenter(self, edges):\n",
    "        \"\"\"\n",
    "        :type edges: List[List[int]]\n",
    "        :rtype: int\n",
    "        \"\"\"\n",
    "        grafo = {}\n",
    "        for i,j in edges:\n",
    "            if i not in grafo:\n",
    "                grafo[i]= []\n",
    "            if j not in grafo:\n",
    "                grafo[j]= []\n",
    "            grafo[j].append(i)\n",
    "            grafo[i].append(j)\n",
    "        for i in grafo:\n",
    "            if len(grafo[i]) == (len(grafo) - 1):\n",
    "                return i\n",
    "sol = Solution()\n",
    "edges = [[1,2],[5,1],[1,3],[1,4]]\n",
    "print(sol.findCenter(edges))"
   ]
  },
  {
   "cell_type": "code",
   "execution_count": 13,
   "metadata": {},
   "outputs": [
    {
     "name": "stdout",
     "output_type": "stream",
     "text": [
      "1\n"
     ]
    }
   ],
   "source": [
    "class Solution(object):\n",
    "    def findCenter(self, edges):\n",
    "        \"\"\"\n",
    "        :type edges: List[List[int]]\n",
    "        :rtype: int\n",
    "        \"\"\"\n",
    "        p = []\n",
    "        for e in edges:\n",
    "            if (e[0] and e[1]) not in p: \n",
    "                p.append(e[0])\n",
    "                p.append(e[1])\n",
    "            else: \n",
    "                return (e[0] if e[0] in p else e[1])\n",
    "            \n",
    "sol = Solution()\n",
    "edges = [[1,2],[5,1],[1,3],[1,4]]\n",
    "print(sol.findCenter(edges))"
   ]
  },
  {
   "cell_type": "markdown",
   "metadata": {},
   "source": []
  }
 ],
 "metadata": {
  "kernelspec": {
   "display_name": "myenv",
   "language": "python",
   "name": "python3"
  },
  "language_info": {
   "codemirror_mode": {
    "name": "ipython",
    "version": 3
   },
   "file_extension": ".py",
   "mimetype": "text/x-python",
   "name": "python",
   "nbconvert_exporter": "python",
   "pygments_lexer": "ipython3",
   "version": "3.10.14"
  }
 },
 "nbformat": 4,
 "nbformat_minor": 2
}
